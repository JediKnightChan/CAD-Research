{
 "cells": [
  {
   "cell_type": "code",
   "execution_count": 77,
   "metadata": {},
   "outputs": [],
   "source": [
    "import pandas as pd\n",
    "import numpy as np\n",
    "from sklearn.metrics import accuracy_score"
   ]
  },
  {
   "cell_type": "code",
   "execution_count": 78,
   "metadata": {},
   "outputs": [],
   "source": [
    "main_df_n = pd.read_csv('GWAS_clinical.csv')\n",
    "score_df_n = pd.read_csv('plink_001.csv', delim_whitespace=True)\n",
    "res_df_n = pd.merge(main_df_n, score_df_n, left_on='FamID', right_on='FID')"
   ]
  },
  {
   "cell_type": "code",
   "execution_count": 79,
   "metadata": {},
   "outputs": [],
   "source": [
    "from sklearn.model_selection import train_test_split, StratifiedKFold\n",
    "df = res_df_n.dropna()\n",
    "df_data = df.loc[:, ['sex', 'tg', 'hdl', 'ldl', 'SCORESUM']]\n",
    "df_target = df.loc[:, 'CAD']\n",
    "\n",
    "leave_one_out = False\n",
    "if leave_one_out:\n",
    "    k = len(df)\n",
    "else:\n",
    "    k = 10\n",
    "    \n",
    "kfold = StratifiedKFold(k, True, 244)\n",
    "sp_data = np.array(list(kfold.split(df, df_target)))"
   ]
  },
  {
   "cell_type": "code",
   "execution_count": 80,
   "metadata": {},
   "outputs": [],
   "source": [
    "def kfold_train_model(model, kfold_split_indexes, df_data, df_target):\n",
    "    results = []\n",
    "    for train_indexes, test_indexes in kfold_split_indexes:\n",
    "        x_train = df_data.iloc[train_indexes, :]\n",
    "        y_train = df_target.iloc[train_indexes]\n",
    "        x_test = df_data.iloc[test_indexes, :]\n",
    "        y_test =  df_target.iloc[test_indexes]\n",
    "        model.fit(x_train, y_train)\n",
    "        predictions = model.predict(x_test)\n",
    "        results.append(accuracy_score(y_test, predictions))\n",
    "    return np.array(results)"
   ]
  },
  {
   "cell_type": "code",
   "execution_count": 81,
   "metadata": {},
   "outputs": [
    {
     "name": "stdout",
     "output_type": "stream",
     "text": [
      "0.7533801234511384 0.03522601899041005\n"
     ]
    }
   ],
   "source": [
    "# Logistic regression\n",
    "from sklearn.linear_model import LogisticRegression\n",
    "log_reg = LogisticRegression(solver='lbfgs')\n",
    "res = kfold_train_model(log_reg, sp_data, df_data, df_target)\n",
    "print(res.mean(), res.std())"
   ]
  },
  {
   "cell_type": "code",
   "execution_count": 82,
   "metadata": {},
   "outputs": [
    {
     "name": "stdout",
     "output_type": "stream",
     "text": [
      "0.7455547480620156 0.016038301351072853\n"
     ]
    }
   ],
   "source": [
    "# Random forest\n",
    "from sklearn.ensemble import RandomForestClassifier\n",
    "rf = RandomForestClassifier(n_estimators=1000)\n",
    "res = kfold_train_model(rf, sp_data, df_data, df_target)\n",
    "print(res.mean(), res.std())"
   ]
  },
  {
   "cell_type": "code",
   "execution_count": 83,
   "metadata": {},
   "outputs": [
    {
     "name": "stdout",
     "output_type": "stream",
     "text": [
      "0.7588918391015078 0.030390253381080676\n"
     ]
    }
   ],
   "source": [
    "# Gradient boosting\n",
    "from sklearn.ensemble import GradientBoostingClassifier\n",
    "gb = GradientBoostingClassifier(n_estimators=100)\n",
    "res = kfold_train_model(gb, sp_data, df_data, df_target)\n",
    "print(res.mean(), res.std())"
   ]
  },
  {
   "cell_type": "code",
   "execution_count": 84,
   "metadata": {},
   "outputs": [
    {
     "name": "stdout",
     "output_type": "stream",
     "text": [
      "0.7619681987425991 0.032143204995460674\n"
     ]
    }
   ],
   "source": [
    "# Naive bayess\n",
    "from sklearn.naive_bayes import GaussianNB\n",
    "gnb = GaussianNB()\n",
    "res = kfold_train_model(gnb, sp_data, df_data, df_target)\n",
    "print(res.mean(), res.std())"
   ]
  },
  {
   "cell_type": "code",
   "execution_count": null,
   "metadata": {},
   "outputs": [],
   "source": []
  }
 ],
 "metadata": {
  "kernelspec": {
   "display_name": "Python 3",
   "language": "python",
   "name": "python3"
  },
  "language_info": {
   "codemirror_mode": {
    "name": "ipython",
    "version": 3
   },
   "file_extension": ".py",
   "mimetype": "text/x-python",
   "name": "python",
   "nbconvert_exporter": "python",
   "pygments_lexer": "ipython3",
   "version": "3.7.1"
  }
 },
 "nbformat": 4,
 "nbformat_minor": 2
}
